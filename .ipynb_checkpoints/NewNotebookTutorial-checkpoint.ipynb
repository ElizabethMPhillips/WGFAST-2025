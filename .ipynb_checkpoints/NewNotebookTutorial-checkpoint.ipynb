{
 "cells": [
  {
   "cell_type": "code",
   "execution_count": 1,
   "id": "ae242979",
   "metadata": {},
   "outputs": [
    {
     "name": "stdout",
     "output_type": "stream",
     "text": [
      "This is the first line of code\n"
     ]
    }
   ],
   "source": [
    "print(\"This is the first line of code\")"
   ]
  },
  {
   "cell_type": "code",
   "execution_count": 6,
   "id": "514e1d9b",
   "metadata": {},
   "outputs": [],
   "source": [
    "def wavelength(f, c = 1500):\n",
    "    \"\"\"\n",
    "    Calculate the wavelength λ = c / f\n",
    "    \n",
    "    Attributes: \n",
    "    f (float): Frequency of the wave in Hz.\n",
    "    c (float): Speed of sound in water in m/s (default 1500 m/s).\n",
    "    \n",
    "    \"\"\"\n",
    "    return c / f\n"
   ]
  },
  {
   "cell_type": "code",
   "execution_count": 3,
   "id": "04043f28",
   "metadata": {},
   "outputs": [],
   "source": [
    "import math"
   ]
  },
  {
   "cell_type": "code",
   "execution_count": 4,
   "id": "fc5cf063",
   "metadata": {},
   "outputs": [
    {
     "name": "stdout",
     "output_type": "stream",
     "text": [
      "Help on built-in function radians in module math:\n",
      "\n",
      "radians(x, /)\n",
      "    Convert angle x from degrees to radians.\n",
      "\n"
     ]
    }
   ],
   "source": [
    "help(math.radians)"
   ]
  },
  {
   "cell_type": "code",
   "execution_count": 5,
   "id": "ddf36e23",
   "metadata": {},
   "outputs": [
    {
     "name": "stdout",
     "output_type": "stream",
     "text": [
      "Help on built-in function degrees in module math:\n",
      "\n",
      "degrees(x, /)\n",
      "    Convert angle x from radians to degrees.\n",
      "\n"
     ]
    }
   ],
   "source": [
    "help(math.degrees)"
   ]
  },
  {
   "cell_type": "code",
   "execution_count": null,
   "id": "af5eb5a4",
   "metadata": {},
   "outputs": [],
   "source": []
  }
 ],
 "metadata": {
  "kernelspec": {
   "display_name": "Python 3 (ipykernel)",
   "language": "python",
   "name": "python3"
  },
  "language_info": {
   "codemirror_mode": {
    "name": "ipython",
    "version": 3
   },
   "file_extension": ".py",
   "mimetype": "text/x-python",
   "name": "python",
   "nbconvert_exporter": "python",
   "pygments_lexer": "ipython3",
   "version": "3.12.9"
  }
 },
 "nbformat": 4,
 "nbformat_minor": 5
}
