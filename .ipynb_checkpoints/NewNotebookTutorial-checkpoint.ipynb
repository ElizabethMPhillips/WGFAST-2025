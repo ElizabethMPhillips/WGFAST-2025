{
 "cells": [
  {
   "cell_type": "code",
   "execution_count": null,
   "id": "830c2399",
   "metadata": {},
   "outputs": [],
   "source": [
    "print(\"This is the first line of code\")"
   ]
  },
  {
   "cell_type": "code",
   "execution_count": 6,
   "id": "514e1d9b",
   "metadata": {},
   "outputs": [],
   "source": [
    "def wavelength(f, c = 1500):\n",
    "    \"\"\"\n",
    "    Calculate the wavelength λ = c / f\n",
    "    \n",
    "    Attributes: \n",
    "    f (float): Frequency of the wave in Hz.\n",
    "    c (float): Speed of sound in water in m/s (default 1500 m/s).\n",
    "    \n",
    "    \"\"\"\n",
    "    return c / f\n"
   ]
  },
  {
   "cell_type": "code",
   "execution_count": 3,
   "id": "04043f28",
   "metadata": {},
   "outputs": [],
   "source": [
    "import math"
   ]
  },
  {
   "cell_type": "code",
   "execution_count": 4,
   "id": "fc5cf063",
   "metadata": {},
   "outputs": [
    {
     "name": "stdout",
     "output_type": "stream",
     "text": [
      "Help on built-in function radians in module math:\n",
      "\n",
      "radians(x, /)\n",
      "    Convert angle x from degrees to radians.\n",
      "\n"
     ]
    }
   ],
   "source": [
    "help(math.radians)"
   ]
  },
  {
   "cell_type": "code",
   "execution_count": 5,
   "id": "ddf36e23",
   "metadata": {
    "scrolled": true
   },
   "outputs": [
    {
     "name": "stdout",
     "output_type": "stream",
     "text": [
      "Help on built-in function degrees in module math:\n",
      "\n",
      "degrees(x, /)\n",
      "    Convert angle x from radians to degrees.\n",
      "\n"
     ]
    }
   ],
   "source": [
    "help(math.degrees)"
   ]
  },
  {
   "cell_type": "code",
   "execution_count": 9,
   "id": "af5eb5a4",
   "metadata": {},
   "outputs": [
    {
     "ename": "SyntaxError",
     "evalue": "invalid syntax (1397642416.py, line 1)",
     "output_type": "error",
     "traceback": [
      "  \u001b[36mCell\u001b[39m\u001b[36m \u001b[39m\u001b[32mIn[9]\u001b[39m\u001b[32m, line 1\u001b[39m\n\u001b[31m    \u001b[39m\u001b[31m$E=mc^2$\u001b[39m\n    ^\n\u001b[31mSyntaxError\u001b[39m\u001b[31m:\u001b[39m invalid syntax\n"
     ]
    }
   ],
   "source": [
    " $E=mc^2$"
   ]
  },
  {
   "cell_type": "code",
   "execution_count": 10,
   "id": "e8838694",
   "metadata": {},
   "outputs": [
    {
     "ename": "ModuleNotFoundError",
     "evalue": "No module named 'uwa'",
     "output_type": "error",
     "traceback": [
      "\u001b[31m---------------------------------------------------------------------------\u001b[39m",
      "\u001b[31mModuleNotFoundError\u001b[39m                       Traceback (most recent call last)",
      "\u001b[36mCell\u001b[39m\u001b[36m \u001b[39m\u001b[32mIn[10]\u001b[39m\u001b[32m, line 1\u001b[39m\n\u001b[32m----> \u001b[39m\u001b[32m1\u001b[39m \u001b[38;5;28;01mimport\u001b[39;00m\u001b[38;5;250m \u001b[39m\u001b[34;01muwa\u001b[39;00m\n",
      "\u001b[31mModuleNotFoundError\u001b[39m: No module named 'uwa'"
     ]
    }
   ],
   "source": [
    "import uwa"
   ]
  },
  {
   "cell_type": "code",
   "execution_count": 11,
   "id": "b0fc797e",
   "metadata": {},
   "outputs": [
    {
     "ename": "SyntaxError",
     "evalue": "invalid syntax (2632971688.py, line 1)",
     "output_type": "error",
     "traceback": [
      "  \u001b[36mCell\u001b[39m\u001b[36m \u001b[39m\u001b[32mIn[11]\u001b[39m\u001b[32m, line 1\u001b[39m\n\u001b[31m    \u001b[39m\u001b[31minstall uwa\u001b[39m\n            ^\n\u001b[31mSyntaxError\u001b[39m\u001b[31m:\u001b[39m invalid syntax\n"
     ]
    }
   ],
   "source": [
    "install uwa"
   ]
  },
  {
   "cell_type": "code",
   "execution_count": 12,
   "id": "481ce846",
   "metadata": {},
   "outputs": [
    {
     "name": "stdout",
     "output_type": "stream",
     "text": [
      "Note: you may need to restart the kernel to use updated packages.\n"
     ]
    },
    {
     "name": "stderr",
     "output_type": "stream",
     "text": [
      "ERROR: Could not find a version that satisfies the requirement uwa (from versions: none)\n",
      "ERROR: No matching distribution found for uwa\n"
     ]
    }
   ],
   "source": [
    "pip install uwa"
   ]
  },
  {
   "cell_type": "code",
   "execution_count": 13,
   "id": "fb883be2",
   "metadata": {},
   "outputs": [
    {
     "name": "stdout",
     "output_type": "stream",
     "text": [
      "Package                   Version\n",
      "------------------------- --------------\n",
      "aiobotocore               2.21.1\n",
      "aiohappyeyeballs          2.6.1\n",
      "aiohttp                   3.11.16\n",
      "aioitertools              0.12.0\n",
      "aiosignal                 1.3.2\n",
      "anyio                     4.9.0\n",
      "argon2-cffi               23.1.0\n",
      "argon2-cffi-bindings      21.2.0\n",
      "arrow                     1.3.0\n",
      "asciitree                 0.3.3\n",
      "asttokens                 3.0.0\n",
      "async-lru                 2.0.5\n",
      "attrs                     25.3.0\n",
      "babel                     2.17.0\n",
      "beautifulsoup4            4.13.3\n",
      "bleach                    6.2.0\n",
      "bokeh                     3.7.2\n",
      "botocore                  1.37.1\n",
      "Bottleneck                1.4.2\n",
      "Brotli                    1.1.0\n",
      "cached-property           1.5.2\n",
      "certifi                   2025.1.31\n",
      "cffi                      1.17.1\n",
      "cftime                    1.6.4\n",
      "charset-normalizer        3.4.1\n",
      "click                     8.1.8\n",
      "cloudpickle               3.1.1\n",
      "cmocean                   4.0.3\n",
      "colorama                  0.4.6\n",
      "colorcet                  3.1.0\n",
      "colorspacious             1.1.2\n",
      "comm                      0.2.2\n",
      "contourpy                 1.3.1\n",
      "cycler                    0.12.1\n",
      "cytoolz                   1.0.1\n",
      "dask                      2025.3.0\n",
      "dask-image                2024.5.3\n",
      "debugpy                   1.8.13\n",
      "decorator                 5.2.1\n",
      "defusedxml                0.7.1\n",
      "Deprecated                1.2.18\n",
      "distributed               2025.3.0\n",
      "echopype                  0.10.1\n",
      "entrypoints               0.4\n",
      "exceptiongroup            1.2.2\n",
      "executing                 2.1.0\n",
      "fasteners                 0.19\n",
      "fastjsonschema            2.21.1\n",
      "flox                      0.10.1\n",
      "fonttools                 4.57.0\n",
      "fqdn                      1.5.1\n",
      "frozenlist                1.5.0\n",
      "fsspec                    2025.3.2\n",
      "geographiclib             2.0\n",
      "geopy                     2.4.1\n",
      "h11                       0.14.0\n",
      "h2                        4.2.0\n",
      "holoviews                 1.20.2\n",
      "hpack                     4.1.0\n",
      "httpcore                  1.0.7\n",
      "httpx                     0.28.1\n",
      "hvplot                    0.11.2\n",
      "hyperframe                6.1.0\n",
      "idna                      3.10\n",
      "imagecodecs               2024.12.30\n",
      "imageio                   2.37.0\n",
      "importlib_metadata        8.6.1\n",
      "importlib_resources       6.5.2\n",
      "ipykernel                 6.29.5\n",
      "ipython                   9.0.2\n",
      "ipython_genutils          0.2.0\n",
      "ipython_pygments_lexers   1.1.1\n",
      "ipywidgets                8.1.5\n",
      "isoduration               20.11.0\n",
      "jedi                      0.19.2\n",
      "Jinja2                    3.1.6\n",
      "jmespath                  1.0.1\n",
      "json5                     0.12.0\n",
      "jsonpointer               3.0.0\n",
      "jsonschema                4.23.0\n",
      "jsonschema-specifications 2024.10.1\n",
      "jupyter                   1.1.1\n",
      "jupyter_bokeh             4.0.5\n",
      "jupyter_client            7.4.9\n",
      "jupyter-console           6.6.3\n",
      "jupyter_core              5.7.2\n",
      "jupyter-events            0.12.0\n",
      "jupyter-lsp               2.2.5\n",
      "jupyter_server            2.15.0\n",
      "jupyter_server_terminals  0.5.3\n",
      "jupyterlab                4.4.0\n",
      "jupyterlab_pygments       0.3.0\n",
      "jupyterlab_server         2.27.3\n",
      "jupyterlab_widgets        3.0.13\n",
      "kiwisolver                1.4.8\n",
      "linkify-it-py             2.0.3\n",
      "locket                    1.0.0\n",
      "lz4                       4.3.3\n",
      "Markdown                  3.6\n",
      "markdown-it-py            3.0.0\n",
      "MarkupSafe                3.0.2\n",
      "matplotlib                3.10.1\n",
      "matplotlib-inline         0.1.7\n",
      "mdit-py-plugins           0.4.2\n",
      "mdurl                     0.1.2\n",
      "mistune                   3.1.3\n",
      "msgpack                   1.1.0\n",
      "multidict                 6.3.2\n",
      "munkres                   1.1.4\n",
      "narwhals                  1.33.0\n",
      "nbclassic                 1.2.0\n",
      "nbclient                  0.10.2\n",
      "nbconvert                 7.16.6\n",
      "nbformat                  5.10.4\n",
      "nest_asyncio              1.6.0\n",
      "netCDF4                   1.6.5\n",
      "notebook                  6.5.7\n",
      "notebook_shim             0.2.4\n",
      "numcodecs                 0.15.1\n",
      "numpy                     1.26.4\n",
      "numpy-groupies            0.11.2\n",
      "overrides                 7.7.0\n",
      "packaging                 24.2\n",
      "pandas                    2.2.3\n",
      "pandocfilters             1.5.0\n",
      "panel                     1.6.2\n",
      "param                     2.2.0\n",
      "parso                     0.8.4\n",
      "partd                     1.4.2\n",
      "pickleshare               0.7.5\n",
      "pillow                    11.1.0\n",
      "PIMS                      0.7\n",
      "pip                       25.0.1\n",
      "pkgutil_resolve_name      1.3.10\n",
      "platformdirs              4.3.7\n",
      "plotly                    6.0.1\n",
      "prometheus_client         0.21.1\n",
      "prompt_toolkit            3.0.50\n",
      "propcache                 0.2.1\n",
      "psutil                    7.0.0\n",
      "pure_eval                 0.2.3\n",
      "pyarrow                   19.0.1\n",
      "pycparser                 2.22\n",
      "Pygments                  2.19.1\n",
      "pynmea2                   1.19.0\n",
      "pyparsing                 3.2.3\n",
      "PySocks                   1.7.1\n",
      "python-dateutil           2.9.0.post0\n",
      "python-json-logger        2.0.7\n",
      "pytz                      2024.1\n",
      "pyviz_comms               3.0.4\n",
      "pywin32                   307\n",
      "pywinpty                  2.0.15\n",
      "PyYAML                    6.0.2\n",
      "pyzmq                     26.4.0\n",
      "referencing               0.36.2\n",
      "requests                  2.32.3\n",
      "rfc3339_validator         0.1.4\n",
      "rfc3986-validator         0.1.1\n",
      "rpds-py                   0.24.0\n",
      "s3fs                      2025.3.2\n",
      "scipy                     1.15.1\n",
      "Send2Trash                1.8.3\n",
      "setuptools                78.1.0\n",
      "six                       1.17.0\n",
      "slicerator                1.1.0\n",
      "sniffio                   1.3.1\n",
      "sortedcontainers          2.4.0\n",
      "soupsieve                 2.5\n",
      "stack_data                0.6.3\n",
      "tblib                     3.1.0\n",
      "terminado                 0.18.1\n",
      "tifffile                  2025.3.30\n",
      "tinycss2                  1.4.0\n",
      "tomli                     2.2.1\n",
      "toolz                     1.0.0\n",
      "tornado                   6.4.2\n",
      "tqdm                      4.67.1\n",
      "traitlets                 5.14.3\n",
      "types-python-dateutil     2.9.0.20241206\n",
      "typing_extensions         4.13.1\n",
      "typing_utils              0.1.0\n",
      "tzdata                    2025.2\n",
      "uc-micro-py               1.0.3\n",
      "unicodedata2              16.0.0\n",
      "uri-template              1.3.0\n",
      "urllib3                   2.3.0\n",
      "wcwidth                   0.2.13\n",
      "webcolors                 24.11.1\n",
      "webencodings              0.5.1\n",
      "websocket-client          1.8.0\n",
      "wheel                     0.45.1\n",
      "widgetsnbextension        4.0.13\n",
      "win_inet_pton             1.1.0\n",
      "wrapt                     1.17.2\n",
      "xarray                    2025.3.1\n",
      "xyzservices               2025.1.0\n",
      "yarl                      1.18.3\n",
      "zarr                      2.18.4\n",
      "zict                      3.0.0\n",
      "zipp                      3.21.0\n",
      "zstandard                 0.23.0\n",
      "Note: you may need to restart the kernel to use updated packages.\n"
     ]
    }
   ],
   "source": [
    "pip list"
   ]
  },
  {
   "cell_type": "code",
   "execution_count": 14,
   "id": "909a0156",
   "metadata": {},
   "outputs": [],
   "source": [
    "def wave_length(c, f):\n",
    "    \"\"\"\n",
    "    Returns the wavelength of a wave\n",
    "\n",
    "    Parameters:\n",
    "    c (int or float): Sound velocity (m/s)\n",
    "    f (int or float): Frequency (Hz)\n",
    "\n",
    "    Return:\n",
    "    float: the wave length in m\n",
    "    \"\"\"\n",
    "    return c / f"
   ]
  },
  {
   "cell_type": "code",
   "execution_count": 15,
   "id": "fc7e54e8",
   "metadata": {},
   "outputs": [
    {
     "data": {
      "text/plain": [
       "'\\n    Returns the wavelength of a wave\\n\\n    Parameters:\\n    c (int or float): Sound velocity (m/s)\\n    f (int or float): Frequency (Hz)\\n\\n    Return:\\n    float: the wave length in m\\n    '"
      ]
     },
     "execution_count": 15,
     "metadata": {},
     "output_type": "execute_result"
    }
   ],
   "source": [
    "wave_length.__doc__"
   ]
  },
  {
   "cell_type": "code",
   "execution_count": 19,
   "id": "dab9455d",
   "metadata": {},
   "outputs": [
    {
     "name": "stdout",
     "output_type": "stream",
     "text": [
      "Help on function wave_length in module __main__:\n",
      "\n",
      "wave_length(c, f)\n",
      "    Returns the wavelength of a wave\n",
      "\n",
      "    Parameters:\n",
      "    c (int or float): Sound velocity (m/s)\n",
      "    f (int or float): Frequency (Hz)\n",
      "\n",
      "    Return:\n",
      "    float: the wave length in m\n",
      "\n"
     ]
    }
   ],
   "source": [
    "help(wave_length)"
   ]
  },
  {
   "cell_type": "code",
   "execution_count": 20,
   "id": "5d029f21",
   "metadata": {},
   "outputs": [
    {
     "name": "stdout",
     "output_type": "stream",
     "text": [
      "2.718281828459045\n"
     ]
    }
   ],
   "source": [
    "print(math.e)"
   ]
  },
  {
   "cell_type": "code",
   "execution_count": 21,
   "id": "807a5398",
   "metadata": {},
   "outputs": [
    {
     "name": "stdout",
     "output_type": "stream",
     "text": [
      "3.141592653589793\n"
     ]
    }
   ],
   "source": [
    "print(math.pi)"
   ]
  },
  {
   "cell_type": "code",
   "execution_count": 22,
   "id": "656df912",
   "metadata": {},
   "outputs": [],
   "source": [
    "max_trans_power = {\n",
    "    \"EK18_11\": {\n",
    "        \"frequency_kHz\": 18,\n",
    "        \"transducer_area\":200,\n",
    "        \"beamwidth_3dB\":11,\n",
    "        \"power\":5000\n",
    "    },\n",
    "    \"EK38_7\": {  \n",
    "        \"frequency_kHz\": 38,\n",
    "        \"transducer_area\":100,\n",
    "        \"beamwidth_3dB\":7,\n",
    "        \"power\":2500\n",
    "    },\n",
    "    \"EK70_7\": {  \n",
    "        \"frequency_kHz\": 70,\n",
    "        \"transducer_area\":30,\n",
    "        \"beamwidth_3dB\":7,\n",
    "        \"power\":750\n",
    "    },\n",
    "    \"EK70_11\": {  \n",
    "        \"frequency_kHz\": 70,\n",
    "        \"transducer_area\":12,\n",
    "        \"beamwidth_3dB\":11,\n",
    "        \"power\":300\n",
    "    },\n",
    "    \"EK120_7\": {  \n",
    "        \"frequency_kHz\": 120,\n",
    "        \"transducer_area\":10,\n",
    "        \"beamwidth_3dB\":7,\n",
    "        \"power\":250\n",
    "    },\n",
    "    \"EK200_7\": {  \n",
    "        \"frequency_kHz\": 200,\n",
    "        \"transducer_area\":4.4,\n",
    "        \"beamwidth_3dB\":7,\n",
    "        \"power\":110\n",
    "    },\n",
    "    \"EK333_7\": {  \n",
    "        \"frequency_kHz\": 333,\n",
    "        \"transducer_area\":100,\n",
    "        \"beamwidth_3dB\":7,\n",
    "        \"power\":2500\n",
    "    }\n",
    "}"
   ]
  },
  {
   "cell_type": "code",
   "execution_count": 23,
   "id": "b13c50e2",
   "metadata": {},
   "outputs": [
    {
     "data": {
      "text/plain": [
       "{'EK18_11': 5000,\n",
       " 'EK38_7': 2500,\n",
       " 'EK70_7': 750,\n",
       " 'EK70_11': 300,\n",
       " 'EK120_7': 250,\n",
       " 'EK200_7': 110,\n",
       " 'EK333_7': 2500}"
      ]
     },
     "execution_count": 23,
     "metadata": {},
     "output_type": "execute_result"
    }
   ],
   "source": [
    "power_dict = {key: vals[\"power\"] for key, vals in max_trans_power.items()}\n",
    "power_dict"
   ]
  },
  {
   "cell_type": "code",
   "execution_count": 24,
   "id": "30030db3",
   "metadata": {},
   "outputs": [
    {
     "data": {
      "text/plain": [
       "'EK18_11'"
      ]
     },
     "execution_count": 24,
     "metadata": {},
     "output_type": "execute_result"
    }
   ],
   "source": [
    "max(power_dict, key=power_dict.get)"
   ]
  },
  {
   "cell_type": "code",
   "execution_count": null,
   "id": "efdd9d66",
   "metadata": {},
   "outputs": [],
   "source": []
  }
 ],
 "metadata": {
  "kernelspec": {
   "display_name": "Python 3 (ipykernel)",
   "language": "python",
   "name": "python3"
  },
  "language_info": {
   "codemirror_mode": {
    "name": "ipython",
    "version": 3
   },
   "file_extension": ".py",
   "mimetype": "text/x-python",
   "name": "python",
   "nbconvert_exporter": "python",
   "pygments_lexer": "ipython3",
   "version": "3.12.9"
  }
 },
 "nbformat": 4,
 "nbformat_minor": 5
}
